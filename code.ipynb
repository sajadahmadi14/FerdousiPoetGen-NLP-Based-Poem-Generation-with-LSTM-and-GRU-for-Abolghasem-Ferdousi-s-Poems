{
  "cells": [
    {
      "cell_type": "markdown",
      "metadata": {
        "id": "K3L3Fa8fStOn"
      },
      "source": []
    },
    {
      "cell_type": "code",
      "execution_count": 19,
      "metadata": {
        "id": "9Ynh4rnMFBDl",
        "vscode": {
          "languageId": "python"
        }
      },
      "outputs": [],
      "source": [
        "from google.colab import drive\n",
        "import tensorflow as tf\n",
        "import pandas as pd\n",
        "import numpy as np\n",
        "import matplotlib.pyplot as plt\n"
      ]
    },
    {
      "cell_type": "markdown",
      "metadata": {
        "id": "f6NgCHkVTEM2"
      },
      "source": [
        "Dataframe is being read <br/>\n",
        "Padding is done here"
      ]
    },
    {
      "cell_type": "code",
      "execution_count": 20,
      "metadata": {
        "colab": {
          "base_uri": "https://localhost:8080/"
        },
        "id": "ivh_8SuCvVY_",
        "outputId": "8637cd2a-200f-48d6-c088-a2d41dbc6ae2",
        "vscode": {
          "languageId": "python"
        }
      },
      "outputs": [
        {
          "name": "stdout",
          "output_type": "stream",
          "text": [
            "Drive already mounted at /content/gdrive; to attempt to forcibly remount, call drive.mount(\"/content/gdrive\", force_remount=True).\n"
          ]
        }
      ],
      "source": [
        "def read_file(path, label):\n",
        "    df = pd.read_csv(path, delimiter = \"\\n\", names=[\"text\", 'label'])\n",
        "    df['label'] = label\n",
        "    return df\n",
        "\n",
        "def dataframe(data):\n",
        "    df=data['text']\n",
        "    df0=df[range(0, len(df), 2)]\n",
        "    df0=df0.iloc[1:]\n",
        "    df0=df0.iloc[:-1]\n",
        "    df0=df0.reset_index(drop=True)\n",
        "    df1=df[range(1, len(df), 2)]\n",
        "    df1=df1.iloc[1:]\n",
        "    df1=df1.reset_index(drop=True)\n",
        "    for i in range(len(df0)):\n",
        "        df0[i] = ''.join(df0[i])\n",
        "\n",
        "    for i in range(len(df1)):\n",
        "        df1[i] = ''.join(df1[i])\n",
        "\n",
        "    for i in range(len(df0)):\n",
        "        df0[i]=df0[i].rjust(35, 'P')\n",
        "        df0[i]=list(df0[i])\n",
        "        df0[i].insert(0,'_BOM_')\n",
        "        df0[i].append('_EOM_')\n",
        "\n",
        "    for i in range(len(df1)):\n",
        "\n",
        "        df1[i]=df1[i].rjust(35, 'P')\n",
        "        df1[i]=list(df1[i])\n",
        "        df1[i].insert(0,'_BOM_')\n",
        "        df1[i].append('_EOM_')\n",
        "    return df,df0,df1\n",
        "\n",
        "\n",
        "drive.mount('/content/gdrive')\n",
        "df_fer = read_file('gdrive/My Drive/golab/datasets/ferdousi.txt', 'ferdousi')\n",
        "index=np.arange((len(df_fer)/2)-2)\n"
      ]
    },
    {
      "cell_type": "markdown",
      "metadata": {
        "id": "yghS7aI2TI3P"
      },
      "source": [
        "10% of the whole data is seprated for final test<br/> \n",
        "actually dataset is divided into 80% train, 10% validation and 10% test "
      ]
    },
    {
      "cell_type": "code",
      "execution_count": 21,
      "metadata": {
        "id": "WprLlhG_FQ52",
        "vscode": {
          "languageId": "python"
        }
      },
      "outputs": [],
      "source": [
        "# 10 percent of data is separated for test dataset\n",
        "testidx=np.random.choice(index,size=int(0.1*49600),replace=0)\n",
        "trainidx=list(set(index)-set(testidx))"
      ]
    },
    {
      "cell_type": "markdown",
      "metadata": {
        "id": "pBcVc81XTjcP"
      },
      "source": [
        "df: All Ferdousi poems<br/>\n",
        "df0: dataset of first Mesra of all Beyts<br/>\n",
        "df1: dataset of secound Mesra of all Beyts<br/>"
      ]
    },
    {
      "cell_type": "code",
      "execution_count": 22,
      "metadata": {
        "id": "7KC4DVP7zRsP",
        "vscode": {
          "languageId": "python"
        }
      },
      "outputs": [],
      "source": [
        "df,df0,df1=dataframe(df_fer)"
      ]
    },
    {
      "cell_type": "markdown",
      "metadata": {
        "id": "zwdetRj8UI5v"
      },
      "source": [
        "maximum length of all Mesras after padding is 37"
      ]
    },
    {
      "cell_type": "code",
      "execution_count": 23,
      "metadata": {
        "colab": {
          "base_uri": "https://localhost:8080/"
        },
        "id": "Y_PaaFjCNDB4",
        "outputId": "2d4ede96-b0f6-4c0a-d551-b34d8a277c6d",
        "vscode": {
          "languageId": "python"
        }
      },
      "outputs": [
        {
          "data": {
            "text/plain": [
              "37"
            ]
          },
          "execution_count": 23,
          "metadata": {},
          "output_type": "execute_result"
        }
      ],
      "source": [
        "maxlen=max(len(max(df0, key=len)),len(max(df1, key=len)))\n",
        "maxlen\n"
      ]
    },
    {
      "cell_type": "markdown",
      "metadata": {},
      "source": [
        "embedding word2vec"
      ]
    },
    {
      "cell_type": "code",
      "execution_count": null,
      "metadata": {
        "vscode": {
          "languageId": "python"
        }
      },
      "outputs": [],
      "source": [
        "word = pd.read_csv('farsi_literature_word2vec_model.txt', delimiter = \"\\n\", )\n",
        "df = pd.read_csv(\"farsi_literature_word2vec_model.txt\")\n",
        "words = []\n",
        "embedding = []\n",
        "for j in range(39778):\n",
        "    a1 = list(df.iloc[j])\n",
        "    c1 = 0\n",
        "    for i in a1[0]:\n",
        "        c1 += 1\n",
        "        if i == ' ':\n",
        "            break\n",
        "    words.append(a1[0][0:c1-1])\n",
        "    a2 = [float(x) for x in a1[0][c1:].split()]\n",
        "    embedding.append(a2)"
      ]
    },
    {
      "cell_type": "code",
      "execution_count": 24,
      "metadata": {
        "id": "W0F2VRCQ2dct",
        "vscode": {
          "languageId": "python"
        }
      },
      "outputs": [],
      "source": [
        "\n",
        "\n",
        "numm=''.join(np.ravel(df))\n",
        "charSet=set(numm)\n",
        "charSet=charSet.difference({'\\n'})\n",
        "padSet={'P','_BOM_','_EOM_'}\n",
        "charSet=charSet.union(padSet)\n",
        "\n",
        "df=np.asarray(df)\n",
        "charList=list(charSet)\n",
        "dicSize=len(charList)\n",
        "\n",
        "charVec=np.eye((dicSize))\n",
        "\n",
        "\n",
        "df0train=df0[trainidx]\n",
        "df1train=df1[trainidx]\n",
        "df0test=df0[testidx]\n",
        "df1test=df1[testidx]\n",
        "\n",
        "df0train=df0train.reset_index(drop=True)\n",
        "df1train=df1train.reset_index(drop=True)\n",
        "df0test=df0test.reset_index(drop=True)\n",
        "df1test=df1test.reset_index(drop=True)\n",
        "\n",
        "# Defining the inputs and outputs of network\n",
        "x_train = np.zeros((len(df0train), maxlen, dicSize))\n",
        "y_train = np.zeros((len(df1train), maxlen, dicSize))\n",
        "y_train_shifted = np.zeros((len(df1train), maxlen, dicSize))\n",
        "\n",
        "x_test = np.zeros((len(df0test), maxlen, dicSize))\n",
        "y_test = np.zeros((len(df1test), maxlen, dicSize))\n",
        "y_test_shifted = np.zeros((len(df1test), maxlen, dicSize))\n",
        "\n"
      ]
    },
    {
      "cell_type": "code",
      "execution_count": 25,
      "metadata": {
        "colab": {
          "base_uri": "https://localhost:8080/"
        },
        "id": "P8uzLuMTb02p",
        "outputId": "e5b7f88a-8c44-4ec0-ceb8-de1343b61a5c",
        "vscode": {
          "languageId": "python"
        }
      },
      "outputs": [
        {
          "data": {
            "text/plain": [
              "0       [_BOM_, P, P, P, P, P, P, P, P, P, ک, ه,  , ب,...\n",
              "1       [_BOM_, P, P, P, P, P, P, P, P, P, چ, و,  , پ,...\n",
              "2       [_BOM_, P, P, P, P, P, P, P, P, P, P, P, P, ب,...\n",
              "3       [_BOM_, P, P, P, P, P, P, P, خ, ر, و, ش, ا, ن,...\n",
              "4       [_BOM_, P, P, P, P, P, P, P, P, P, P, P, ب, ت,...\n",
              "                              ...                        \n",
              "4955    [_BOM_, P, P, P, P, P, P, P, P, P, P, P, پ, ش,...\n",
              "4956    [_BOM_, P, P, P, P, P, P, P, P, P, ب, ه,  , ن,...\n",
              "4957    [_BOM_, P, P, P, P, P, P, P, P, P, P, چ, و,  ,...\n",
              "4958    [_BOM_, P, P, P, P, P, P, P, P, P, P, P, ن, م,...\n",
              "4959    [_BOM_, P, P, P, P, P, P, P, P, P, P, P, و, ل,...\n",
              "Name: text, Length: 4960, dtype: object"
            ]
          },
          "execution_count": 25,
          "metadata": {},
          "output_type": "execute_result"
        }
      ],
      "source": [
        "df0train=df0train.reset_index(drop=True)\n",
        "df0test"
      ]
    },
    {
      "cell_type": "code",
      "execution_count": 26,
      "metadata": {
        "id": "27ZoWqzjH-iq",
        "vscode": {
          "languageId": "python"
        }
      },
      "outputs": [],
      "source": [
        "def one_hot_coder(mySeq, myDic):\n",
        "    vector=np.zeros(shape=(len(mySeq),dicSize))\n",
        "    for i in range(len(mySeq)):\n",
        "      currentChar=mySeq[i]\n",
        "      idx=myDic.index(currentChar)\n",
        "      vector[i,:]=charVec[idx,:]\n",
        "    return vector\n",
        "\n",
        "\n",
        "for i in range(len(df0train)-1):\n",
        "  x_train[i,:,:]=one_hot_coder(df0train[i],charList)\n",
        "  y_train[i,:,:]=one_hot_coder(df1train[i],charList)\n",
        "  a=one_hot_coder(df1train[i],charList)\n",
        "  y_train_shifted[i,1:,:]=a[0:-1]\n",
        "\n",
        "\n",
        "for i in range(len(df0test)-1):\n",
        "  x_test[i,:,:]=one_hot_coder(df0test[i],charList)\n",
        "  y_test[i,:,:]=one_hot_coder(df1test[i],charList)\n",
        "  a=one_hot_coder(df1test[i],charList)\n",
        "  y_test_shifted[i,1:,:]=a[0:-1]"
      ]
    },
    {
      "cell_type": "markdown",
      "metadata": {
        "id": "WodqQ7RBVALx"
      },
      "source": [
        "### Encoder-Decoder using LSTM"
      ]
    },
    {
      "cell_type": "code",
      "execution_count": 27,
      "metadata": {
        "colab": {
          "base_uri": "https://localhost:8080/",
          "height": 1000
        },
        "id": "621cdzQODQiX",
        "outputId": "5a80d62d-c707-4f9a-e6ee-52f66809bee7",
        "vscode": {
          "languageId": "python"
        }
      },
      "outputs": [
        {
          "name": "stdout",
          "output_type": "stream",
          "text": [
            "Epoch 1/20\n",
            "157/157 [==============================] - 8s 36ms/step - loss: 1.8538 - accuracy: 0.4852 - val_loss: 1.5653 - val_accuracy: 0.5487\n",
            "Epoch 2/20\n",
            "157/157 [==============================] - 4s 26ms/step - loss: 1.4770 - accuracy: 0.5754 - val_loss: 1.3979 - val_accuracy: 0.5958\n",
            "Epoch 3/20\n",
            "157/157 [==============================] - 4s 27ms/step - loss: 1.3433 - accuracy: 0.6129 - val_loss: 1.2874 - val_accuracy: 0.6282\n",
            "Epoch 4/20\n",
            "157/157 [==============================] - 5s 33ms/step - loss: 1.2337 - accuracy: 0.6442 - val_loss: 1.2016 - val_accuracy: 0.6524\n",
            "Epoch 5/20\n",
            "157/157 [==============================] - 4s 27ms/step - loss: 1.1575 - accuracy: 0.6650 - val_loss: 1.1400 - val_accuracy: 0.6697\n",
            "Epoch 6/20\n",
            "157/157 [==============================] - 4s 27ms/step - loss: 1.1010 - accuracy: 0.6804 - val_loss: 1.0999 - val_accuracy: 0.6800\n",
            "Epoch 7/20\n",
            "157/157 [==============================] - 5s 30ms/step - loss: 1.0604 - accuracy: 0.6911 - val_loss: 1.0686 - val_accuracy: 0.6895\n",
            "Epoch 8/20\n",
            "157/157 [==============================] - 4s 27ms/step - loss: 1.0280 - accuracy: 0.6996 - val_loss: 1.0460 - val_accuracy: 0.6950\n",
            "Epoch 9/20\n",
            "157/157 [==============================] - 4s 26ms/step - loss: 1.0040 - accuracy: 0.7065 - val_loss: 1.0312 - val_accuracy: 0.6996\n",
            "Epoch 10/20\n",
            "157/157 [==============================] - 5s 29ms/step - loss: 0.9831 - accuracy: 0.7126 - val_loss: 1.0159 - val_accuracy: 0.7040\n",
            "Epoch 11/20\n",
            "157/157 [==============================] - 4s 26ms/step - loss: 0.9656 - accuracy: 0.7169 - val_loss: 0.9997 - val_accuracy: 0.7088\n",
            "Epoch 12/20\n",
            "157/157 [==============================] - 4s 27ms/step - loss: 0.9514 - accuracy: 0.7213 - val_loss: 0.9916 - val_accuracy: 0.7109\n",
            "Epoch 13/20\n",
            "157/157 [==============================] - 5s 33ms/step - loss: 0.9392 - accuracy: 0.7243 - val_loss: 0.9820 - val_accuracy: 0.7136\n",
            "Epoch 14/20\n",
            "157/157 [==============================] - 4s 27ms/step - loss: 0.9263 - accuracy: 0.7282 - val_loss: 0.9777 - val_accuracy: 0.7134\n",
            "Epoch 15/20\n",
            "157/157 [==============================] - 4s 26ms/step - loss: 0.9183 - accuracy: 0.7301 - val_loss: 0.9698 - val_accuracy: 0.7168\n",
            "Epoch 16/20\n",
            "157/157 [==============================] - 4s 29ms/step - loss: 0.9066 - accuracy: 0.7335 - val_loss: 0.9684 - val_accuracy: 0.7174\n",
            "Epoch 17/20\n",
            "157/157 [==============================] - 4s 26ms/step - loss: 0.8998 - accuracy: 0.7352 - val_loss: 0.9602 - val_accuracy: 0.7203\n",
            "Epoch 18/20\n",
            "157/157 [==============================] - 4s 26ms/step - loss: 0.8917 - accuracy: 0.7375 - val_loss: 0.9584 - val_accuracy: 0.7209\n",
            "Epoch 19/20\n",
            "157/157 [==============================] - 4s 28ms/step - loss: 0.8826 - accuracy: 0.7403 - val_loss: 0.9538 - val_accuracy: 0.7228\n",
            "Epoch 20/20\n",
            "157/157 [==============================] - 4s 27ms/step - loss: 0.8766 - accuracy: 0.7421 - val_loss: 0.9528 - val_accuracy: 0.7231\n"
          ]
        },
        {
          "data": {
            "image/png": "[encoded data removed]",
            "text/plain": [
              "<Figure size 432x288 with 1 Axes>"
            ]
          },
          "metadata": {
            "needs_background": "light"
          },
          "output_type": "display_data"
        },
        {
          "data": {
            "image/png": "[encoded data removed]",
            "text/plain": [
              "<Figure size 432x288 with 1 Axes>"
            ]
          },
          "metadata": {
            "needs_background": "light"
          },
          "output_type": "display_data"
        }
      ],
      "source": [
        "\n",
        "import keras\n",
        "from keras.models import Sequential,Model\n",
        "from keras.layers import LSTM,Dense,RepeatVector,Input\n",
        "\n",
        "x_train=x_train.astype(int)\n",
        "y_train=y_train.astype(int)\n",
        "y_train_shifted=y_train_shifted.astype(int)\n",
        "\n",
        "# Hyperparameters\n",
        "batch_size=256\n",
        "num_lstm_outputs=256\n",
        "epochs=20\n",
        "lr=0.01\n",
        "\n",
        "\n",
        "encoder_inputs = Input(shape=(None, dicSize),name='Encoder_Inputs')\n",
        "decoder_inputs = Input(shape=(None, dicSize),name='Decoder_Inputs')\n",
        "\n",
        "\n",
        "encoder_lstm = LSTM(num_lstm_outputs, return_state=True,name='LSTM_Encoder',activation='tanh',recurrent_activation='sigmoid')\n",
        "_,hidden_state, cell_state = encoder_lstm(encoder_inputs)\n",
        "decoder_initial_states = [hidden_state, cell_state]\n",
        "decoder_lstm = LSTM(num_lstm_outputs, return_sequences=True, return_state=True,name='LSTM_Decoder',activation='tanh',recurrent_activation='sigmoid')\n",
        "decoder_outputs, _, _ = decoder_lstm(decoder_inputs,initial_state=decoder_initial_states)\n",
        "decoder_dense = Dense(dicSize, activation='softmax',name='Dense_Layer')\n",
        "decoder_outputs = decoder_dense(decoder_outputs)\n",
        "\n",
        "# Training\n",
        "opt=keras.optimizers.Adam(lr=lr)\n",
        "model = Model([encoder_inputs, decoder_inputs], decoder_outputs)\n",
        "model.compile(optimizer=opt,metrics=['accuracy'], loss='categorical_crossentropy')\n",
        "history=model.fit([x_train, y_train_shifted], y_train,batch_size=batch_size,epochs=epochs,verbose=1,validation_split=0.1)\n",
        "\n",
        "\n",
        "\n",
        "plt.plot(history.history['loss'])\n",
        "plt.plot(history.history['val_loss'])\n",
        "plt.title('LSTM Model Loss')\n",
        "plt.ylabel('Loss')\n",
        "plt.xlabel('Epoch')\n",
        "plt.legend(['Train', 'Validation'], loc='upper left')\n",
        "plt.show()\n",
        "\n",
        "plt.plot(history.history['accuracy'])\n",
        "plt.plot(history.history['val_accuracy'])\n",
        "plt.title('Model accuracy')\n",
        "plt.ylabel('accuracy')\n",
        "plt.xlabel('Epoch')\n",
        "plt.legend(['Train', 'Validation'], loc='upper left')\n",
        "plt.show()\n",
        "\n"
      ]
    },
    {
      "cell_type": "markdown",
      "metadata": {
        "id": "pZ4oZ1-wVHkB"
      },
      "source": [
        "# Model evaluation using testdataset"
      ]
    },
    {
      "cell_type": "code",
      "execution_count": 28,
      "metadata": {
        "colab": {
          "base_uri": "https://localhost:8080/"
        },
        "id": "X8Snt1xDRSPg",
        "outputId": "7c6be801-0c49-4315-994b-52aec4abc1b0",
        "vscode": {
          "languageId": "python"
        }
      },
      "outputs": [
        {
          "name": "stdout",
          "output_type": "stream",
          "text": [
            "155/155 [==============================] - 1s 5ms/step - loss: 0.9241 - accuracy: 0.7307\n"
          ]
        },
        {
          "data": {
            "text/plain": [
              "[0.9240776896476746, 0.7307432293891907]"
            ]
          },
          "execution_count": 28,
          "metadata": {},
          "output_type": "execute_result"
        }
      ],
      "source": [
        "\n",
        "model.evaluate([x_test,y_test_shifted],y_test)\n"
      ]
    },
    {
      "cell_type": "markdown",
      "metadata": {
        "id": "N_s0FTcAVFud"
      },
      "source": [
        "### Encoder-Decoder using GRU"
      ]
    },
    {
      "cell_type": "code",
      "execution_count": 29,
      "metadata": {
        "colab": {
          "base_uri": "https://localhost:8080/",
          "height": 1000
        },
        "id": "_j5A3Yz9SWo7",
        "outputId": "46e976f2-6253-4567-f771-ee5fef127a43",
        "vscode": {
          "languageId": "python"
        }
      },
      "outputs": [
        {
          "name": "stdout",
          "output_type": "stream",
          "text": [
            "Epoch 1/20\n",
            "157/157 [==============================] - 8s 32ms/step - loss: 1.7348 - accuracy: 0.5166 - val_loss: 1.4585 - val_accuracy: 0.5796\n",
            "Epoch 2/20\n",
            "157/157 [==============================] - 4s 23ms/step - loss: 1.3189 - accuracy: 0.6206 - val_loss: 1.2200 - val_accuracy: 0.6466\n",
            "Epoch 3/20\n",
            "157/157 [==============================] - 4s 24ms/step - loss: 1.1531 - accuracy: 0.6658 - val_loss: 1.1540 - val_accuracy: 0.6654\n",
            "Epoch 4/20\n",
            "157/157 [==============================] - 4s 26ms/step - loss: 1.0728 - accuracy: 0.6869 - val_loss: 1.0736 - val_accuracy: 0.6873\n",
            "Epoch 5/20\n",
            "157/157 [==============================] - 4s 25ms/step - loss: 1.0248 - accuracy: 0.6994 - val_loss: 1.0567 - val_accuracy: 0.6918\n",
            "Epoch 6/20\n",
            "157/157 [==============================] - 4s 24ms/step - loss: 0.9938 - accuracy: 0.7080 - val_loss: 1.0272 - val_accuracy: 0.7006\n",
            "Epoch 7/20\n",
            "157/157 [==============================] - 4s 24ms/step - loss: 0.9701 - accuracy: 0.7142 - val_loss: 1.0143 - val_accuracy: 0.7040\n",
            "Epoch 8/20\n",
            "157/157 [==============================] - 4s 27ms/step - loss: 0.9541 - accuracy: 0.7186 - val_loss: 1.0057 - val_accuracy: 0.7064\n",
            "Epoch 9/20\n",
            "157/157 [==============================] - 4s 24ms/step - loss: 0.9418 - accuracy: 0.7221 - val_loss: 1.0302 - val_accuracy: 0.7008\n",
            "Epoch 10/20\n",
            "157/157 [==============================] - 4s 24ms/step - loss: 0.9280 - accuracy: 0.7262 - val_loss: 0.9957 - val_accuracy: 0.7106\n",
            "Epoch 11/20\n",
            "157/157 [==============================] - 4s 25ms/step - loss: 0.9182 - accuracy: 0.7293 - val_loss: 0.9973 - val_accuracy: 0.7105\n",
            "Epoch 12/20\n",
            "157/157 [==============================] - 4s 25ms/step - loss: 0.9078 - accuracy: 0.7320 - val_loss: 0.9951 - val_accuracy: 0.7116\n",
            "Epoch 13/20\n",
            "157/157 [==============================] - 4s 24ms/step - loss: 0.9113 - accuracy: 0.7307 - val_loss: 0.9933 - val_accuracy: 0.7111\n",
            "Epoch 14/20\n",
            "157/157 [==============================] - 4s 24ms/step - loss: 0.9535 - accuracy: 0.7209 - val_loss: 1.0785 - val_accuracy: 0.6870\n",
            "Epoch 15/20\n",
            "157/157 [==============================] - 4s 28ms/step - loss: 0.9409 - accuracy: 0.7218 - val_loss: 1.0013 - val_accuracy: 0.7082\n",
            "Epoch 16/20\n",
            "157/157 [==============================] - 4s 24ms/step - loss: 0.9025 - accuracy: 0.7332 - val_loss: 0.9945 - val_accuracy: 0.7119\n",
            "Epoch 17/20\n",
            "157/157 [==============================] - 4s 24ms/step - loss: 0.8910 - accuracy: 0.7362 - val_loss: 0.9973 - val_accuracy: 0.7117\n",
            "Epoch 18/20\n",
            "157/157 [==============================] - 4s 26ms/step - loss: 0.8849 - accuracy: 0.7383 - val_loss: 1.0000 - val_accuracy: 0.7105\n",
            "Epoch 19/20\n",
            "157/157 [==============================] - 4s 25ms/step - loss: 0.8831 - accuracy: 0.7384 - val_loss: 0.9981 - val_accuracy: 0.7116\n",
            "Epoch 20/20\n",
            "157/157 [==============================] - 4s 24ms/step - loss: 0.8777 - accuracy: 0.7399 - val_loss: 0.9961 - val_accuracy: 0.7119\n"
          ]
        },
        {
          "data": {
            "image/png": "[encoded data removed]",
            "text/plain": [
              "<Figure size 432x288 with 1 Axes>"
            ]
          },
          "metadata": {
            "needs_background": "light"
          },
          "output_type": "display_data"
        },
        {
          "data": {
            "image/png": "[encoded data removed]",
            "text/plain": [
              "<Figure size 432x288 with 1 Axes>"
            ]
          },
          "metadata": {
            "needs_background": "light"
          },
          "output_type": "display_data"
        }
      ],
      "source": [
        "\n",
        "import keras\n",
        "from keras.models import Sequential,Model\n",
        "from keras.layers import LSTM,Dense,RepeatVector,Input,GRU\n",
        "\n",
        "\n",
        "# Hyperparameters\n",
        "batch_size=256\n",
        "num_lstm_outputs=256\n",
        "epochs=20\n",
        "lr=0.01\n",
        "\n",
        "# Network Architecture\n",
        "# Inputs of network\n",
        "encoder_inputs = Input(shape=(None, dicSize),name='Encoder_Inputs')\n",
        "decoder_inputs = Input(shape=(None, dicSize),name='Decoder_Inputs')\n",
        "\n",
        "# Encoder LSTM\n",
        "encoder = GRU(num_lstm_outputs, return_state=True)\n",
        "_,hidden_state = encoder(encoder_inputs)\n",
        "decoder_initial_states = [hidden_state]\n",
        "decoder = GRU(num_lstm_outputs, return_sequences=True)\n",
        "decoder_outputs = decoder(decoder_inputs,initial_state=decoder_initial_states)\n",
        "decoder_dense = Dense(dicSize, activation='softmax',name='Dense_Layer')\n",
        "decoder_outputs = decoder_dense(decoder_outputs)\n",
        "\n",
        "# Training\n",
        "opt=keras.optimizers.Adam(lr=lr)\n",
        "model = Model([encoder_inputs, decoder_inputs], decoder_outputs)\n",
        "model.compile(optimizer=opt,metrics=['accuracy'], loss='categorical_crossentropy')\n",
        "history=model.fit([x_train, y_train_shifted], y_train,batch_size=batch_size,epochs=epochs,verbose=1,validation_split=0.1)\n",
        "\n",
        "\n",
        "\n",
        "plt.plot(history.history['loss'])\n",
        "plt.plot(history.history['val_loss'])\n",
        "plt.title('Model Loss')\n",
        "plt.ylabel('Loss')\n",
        "plt.xlabel('Epoch')\n",
        "plt.legend(['Train', 'Validation'], loc='upper left')\n",
        "plt.show()\n",
        "\n",
        "plt.plot(history.history['accuracy'])\n",
        "plt.plot(history.history['val_accuracy'])\n",
        "plt.title('Model accuracy')\n",
        "plt.ylabel('accuracy')\n",
        "plt.xlabel('Epoch')\n",
        "plt.legend(['Train', 'Validation'], loc='upper left')\n",
        "plt.show()\n",
        "\n",
        "\n"
      ]
    },
    {
      "cell_type": "markdown",
      "metadata": {
        "id": "_LG6K9EeVWpr"
      },
      "source": [
        "### Model evaluation using testdataset"
      ]
    },
    {
      "cell_type": "code",
      "execution_count": 30,
      "metadata": {
        "colab": {
          "base_uri": "https://localhost:8080/"
        },
        "id": "6o30miD5RZ0H",
        "outputId": "794882f9-a8d1-449e-de45-7574017becc5",
        "vscode": {
          "languageId": "python"
        }
      },
      "outputs": [
        {
          "name": "stdout",
          "output_type": "stream",
          "text": [
            "155/155 [==============================] - 2s 5ms/step - loss: 0.9614 - accuracy: 0.7188\n"
          ]
        },
        {
          "data": {
            "text/plain": [
              "[0.9613818526268005, 0.718809962272644]"
            ]
          },
          "execution_count": 30,
          "metadata": {},
          "output_type": "execute_result"
        }
      ],
      "source": [
        "model.evaluate([x_test,y_test_shifted],y_test)\n"
      ]
    }
  ],
  "metadata": {
    "accelerator": "GPU",
    "colab": {
      "provenance": []
    },
    "gpuClass": "standard",
    "kernelspec": {
      "display_name": "Python 3",
      "name": "python3"
    }
  },
  "nbformat": 4,
  "nbformat_minor": 0
}
